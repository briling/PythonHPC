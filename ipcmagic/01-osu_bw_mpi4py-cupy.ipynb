{
 "cells": [
  {
   "cell_type": "markdown",
   "id": "86b84834-b048-4832-bd49-f49c29d4fdfb",
   "metadata": {
    "tags": []
   },
   "source": [
    "## OSU G2G Bandwidth Benchmark with MPI4Py\n",
    "In this example we use [IPCMagic](https://github.com/eth-cscs/ipcluster_magic/tree/master) to run a test from the [OSU Bandwidth benchmark](http://mvapich.cse.ohio-state.edu/benchmarks/) with MPI4Py from a Jupyter notebook.\n",
    "Using [this example](https://mpi4py.readthedocs.io/en/stable/tutorial.html#cuda-aware-mpi-python-gpu-arrays), we adapted the [osu_bw.py](https://github.com/mpi4py/mpi4py/blob/d0228f0397403ff73d8f41d90d97b411efda6128/demo/osu_bw.py) script from the MPI4Py repository so it uses an array allocated on the GPU.\n",
    "\n",
    "* From a shell in Piz Daint this can be run using this Slurm job script:\n",
    " \n",
    "```\n",
    "#!/bin/bash -l\n",
    "\n",
    "#SBATCH --job-name=osubw\n",
    "#SBATCH --time=00:05:00\n",
    "#SBATCH --nodes=2\n",
    "#SBATCH --ntasks-per-core=1\n",
    "#SBATCH --ntasks-per-node=1\n",
    "#SBATCH --cpus-per-task=12\n",
    "#SBATCH --partition=normal\n",
    "#SBATCH --constraint=gpu\n",
    "#SBATCH --account=<project>\n",
    "\n",
    "# source python environment with cupy and mpi4py\n",
    "\n",
    "export MPICH_RDMA_ENABLED_CUDA=1\n",
    "\n",
    "srun python osu_bw_cupy.py\n",
    "```"
   ]
  },
  {
   "cell_type": "code",
   "execution_count": 1,
   "id": "b55135ce-b328-4d73-b498-d8369ead8380",
   "metadata": {},
   "outputs": [],
   "source": [
    "import os\n",
    "import ipcmagic"
   ]
  },
  {
   "cell_type": "code",
   "execution_count": 2,
   "id": "64b6492d-1dbd-441d-95fa-7eb1717e0bdb",
   "metadata": {},
   "outputs": [],
   "source": [
    "os.environ['MPICH_RDMA_ENABLED_CUDA'] = '1'  # Enable direct communication between GPUs"
   ]
  },
  {
   "cell_type": "code",
   "execution_count": null,
   "id": "79928bb7-8091-458f-b438-b66e1af23a8b",
   "metadata": {},
   "outputs": [],
   "source": [
    "%ipcluster --version"
   ]
  },
  {
   "cell_type": "code",
   "execution_count": 3,
   "id": "a7d237d6-f385-49c6-9bad-323ba3c2d7a6",
   "metadata": {},
   "outputs": [
    {
     "name": "stdout",
     "output_type": "stream",
     "text": [
      "100%|██████████| 2/2 [00:06<00:00,  3.23s/engine]\n"
     ]
    }
   ],
   "source": [
    "%ipcluster start -n 2"
   ]
  },
  {
   "cell_type": "code",
   "execution_count": null,
   "id": "cbaea7a2-4171-438d-8ad9-3a00411fd007",
   "metadata": {},
   "outputs": [],
   "source": [
    "# Disable IPyParallel's progress bar\n",
    "%pxconfig --progress-after -1"
   ]
  },
  {
   "cell_type": "code",
   "execution_count": 4,
   "id": "12b975be-ceed-412d-9117-b3d8b7904549",
   "metadata": {},
   "outputs": [
    {
     "data": {
      "text/plain": [
       "\u001b[0;31mOut[1:1]: \u001b[0m'nid02125'"
      ]
     },
     "metadata": {
      "after": null,
      "completed": null,
      "data": {},
      "engine_id": 1,
      "engine_uuid": "ef73326f-deaaf55505147f648d314b5d",
      "error": null,
      "execute_input": "import socket\n\nsocket.gethostname()\n",
      "execute_result": {
       "data": {
        "text/plain": "'nid02125'"
       },
       "execution_count": 1,
       "metadata": {}
      },
      "follow": null,
      "msg_id": null,
      "outputs": [],
      "received": null,
      "started": null,
      "status": null,
      "stderr": "",
      "stdout": "",
      "submitted": "2023-06-23T08:52:24.909079Z"
     },
     "output_type": "display_data"
    },
    {
     "data": {
      "text/plain": [
       "\u001b[0;31mOut[0:1]: \u001b[0m'nid02124'"
      ]
     },
     "metadata": {
      "after": null,
      "completed": null,
      "data": {},
      "engine_id": 0,
      "engine_uuid": "5fcb6925-cddc0a64e820d838e50b718f",
      "error": null,
      "execute_input": "import socket\n\nsocket.gethostname()\n",
      "execute_result": {
       "data": {
        "text/plain": "'nid02124'"
       },
       "execution_count": 1,
       "metadata": {}
      },
      "follow": null,
      "msg_id": null,
      "outputs": [],
      "received": null,
      "started": null,
      "status": null,
      "stderr": "",
      "stdout": "",
      "submitted": "2023-06-23T08:52:24.908908Z"
     },
     "output_type": "display_data"
    }
   ],
   "source": [
    "%%px\n",
    "import socket\n",
    "\n",
    "socket.gethostname()"
   ]
  },
  {
   "cell_type": "code",
   "execution_count": 5,
   "id": "d81d6c89-d339-45ac-aff7-88a11558ce15",
   "metadata": {},
   "outputs": [
    {
     "name": "stdout",
     "output_type": "stream",
     "text": [
      "%px: 100%|██████████| 2/2 [00:01<00:00,  1.06tasks/s]\n"
     ]
    }
   ],
   "source": [
    "%%px\n",
    "from osu_bw_cupy import osu_bw"
   ]
  },
  {
   "cell_type": "code",
   "execution_count": 6,
   "id": "8ebf8f80-37b1-4d74-a911-33c1a32a461d",
   "metadata": {},
   "outputs": [
    {
     "data": {
      "text/plain": [
       "[stdout:0] # MPI G2G Bandwidth Test\n",
       "# Size [B]    Bandwidth [MB/s]\n",
       "1                         0.15\n",
       "2                         0.30\n",
       "4                         0.64\n",
       "8                         1.28\n",
       "16                        2.46\n",
       "32                        5.06\n",
       "64                       10.10\n",
       "128                      20.37\n",
       "256                      40.30\n",
       "512                      78.17\n",
       "1024                    162.33\n",
       "2048                    323.49\n",
       "4096                    630.32\n",
       "8192                   1094.98\n",
       "16384                  1609.12\n",
       "32768                  2340.20\n",
       "65536                  4557.27\n",
       "131072                 6142.58\n",
       "262144                 7284.93\n",
       "524288                 8002.00\n",
       "1048576                8384.16\n",
       "2097152                8628.62\n",
       "4194304                8753.23\n"
      ]
     },
     "metadata": {},
     "output_type": "display_data"
    },
    {
     "name": "stdout",
     "output_type": "stream",
     "text": [
      "%px: 100%|██████████| 2/2 [00:01<00:00,  1.85tasks/s]\n"
     ]
    }
   ],
   "source": [
    "%%px\n",
    "osu_bw()"
   ]
  },
  {
   "cell_type": "code",
   "execution_count": null,
   "id": "1cb656f2-2367-405a-9173-d79fe53281a0",
   "metadata": {},
   "outputs": [],
   "source": [
    "%ipcluster stop"
   ]
  }
 ],
 "metadata": {
  "kernelspec": {
   "display_name": "hpcpy2023",
   "language": "python",
   "name": "hpcpy2023"
  },
  "language_info": {
   "codemirror_mode": {
    "name": "ipython",
    "version": 3
   },
   "file_extension": ".py",
   "mimetype": "text/x-python",
   "name": "python",
   "nbconvert_exporter": "python",
   "pygments_lexer": "ipython3",
   "version": "3.9.4"
  },
  "widgets": {
   "application/vnd.jupyter.widget-state+json": {
    "state": {},
    "version_major": 2,
    "version_minor": 0
   }
  }
 },
 "nbformat": 4,
 "nbformat_minor": 5
}
