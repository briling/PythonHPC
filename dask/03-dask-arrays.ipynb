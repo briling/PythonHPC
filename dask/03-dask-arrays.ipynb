{
 "cells": [
  {
   "cell_type": "markdown",
   "metadata": {},
   "source": [
    "# Dask arrays\n",
    "\n",
    "Let's explore Dask arrays!"
   ]
  },
  {
   "cell_type": "code",
   "execution_count": 3,
   "metadata": {},
   "outputs": [],
   "source": [
    "import numpy as np\n",
    "import dask.array as da"
   ]
  },
  {
   "cell_type": "markdown",
   "metadata": {},
   "source": [
    "Let's create a random dask array, do some operation and visualize it:"
   ]
  },
  {
   "cell_type": "code",
   "execution_count": null,
   "metadata": {},
   "outputs": [],
   "source": [
    "x = da.random.random((2000, 2000), chunks=(500, 500))\n",
    "x"
   ]
  },
  {
   "cell_type": "code",
   "execution_count": null,
   "metadata": {},
   "outputs": [],
   "source": [
    "x = da.random.random((8000, 8000))\n",
    "x"
   ]
  },
  {
   "cell_type": "code",
   "execution_count": null,
   "metadata": {},
   "outputs": [],
   "source": [
    "y = x.mean()"
   ]
  },
  {
   "cell_type": "code",
   "execution_count": null,
   "metadata": {},
   "outputs": [],
   "source": [
    "y.visualize(optimize_graph=True, color='order',\n",
    "            cmap='autumn', node_attr={'penwidth': '2'})"
   ]
  },
  {
   "cell_type": "markdown",
   "metadata": {},
   "source": [
    "Let's increase the size of the array and compute the operation."
   ]
  },
  {
   "cell_type": "code",
   "execution_count": null,
   "metadata": {},
   "outputs": [],
   "source": [
    "%%time\n",
    "N = 20000\n",
    "x = da.random.random((N, N))\n",
    "y = x.mean()\n",
    "y.compute()"
   ]
  },
  {
   "cell_type": "markdown",
   "metadata": {},
   "source": [
    "Let's compare the results with NumPy:"
   ]
  },
  {
   "cell_type": "code",
   "execution_count": null,
   "metadata": {},
   "outputs": [],
   "source": [
    "%%time\n",
    "N = 20000\n",
    "rng = np.random.default_rng()\n",
    "x = rng.random((N, N))\n",
    "x.mean()"
   ]
  },
  {
   "cell_type": "markdown",
   "metadata": {},
   "source": [
    "<mark>**Question**</mark>: Try the two cells above with `N = 200`. Which one is faster, the numpy version or the dask one?"
   ]
  },
  {
   "cell_type": "markdown",
   "metadata": {},
   "source": [
    "***\n",
    "\n",
    "Let's consider now the operation `x @ x`. <mark>**Question**</mark>: Could you explain the results of the timings?"
   ]
  },
  {
   "cell_type": "code",
   "execution_count": null,
   "metadata": {},
   "outputs": [],
   "source": [
    "%%time\n",
    "N = 6000\n",
    "x = rng.random((N, N))\n",
    "y = x @ x"
   ]
  },
  {
   "cell_type": "code",
   "execution_count": 10,
   "metadata": {},
   "outputs": [],
   "source": [
    "def mymatmul(x):\n",
    "    n = x.shape[0]\n",
    "    y = np.zeros((n,n))\n",
    "    for i in range(n):\n",
    "        for j in range(n):\n",
    "            for k in range(n):\n",
    "                y[i,j] += x[i,k] * x[k,j]\n",
    "    return y"
   ]
  },
  {
   "cell_type": "code",
   "execution_count": 16,
   "metadata": {},
   "outputs": [],
   "source": [
    "N = 16\n",
    "x = da.random.random((N, N), chunks=(8,8))"
   ]
  },
  {
   "cell_type": "code",
   "execution_count": 17,
   "metadata": {},
   "outputs": [
    {
     "data": {
      "text/html": [
       "<table>\n",
       "    <tr>\n",
       "        <td>\n",
       "            <table style=\"border-collapse: collapse;\">\n",
       "                <thead>\n",
       "                    <tr>\n",
       "                        <td> </td>\n",
       "                        <th> Array </th>\n",
       "                        <th> Chunk </th>\n",
       "                    </tr>\n",
       "                </thead>\n",
       "                <tbody>\n",
       "                    \n",
       "                    <tr>\n",
       "                        <th> Bytes </th>\n",
       "                        <td> 2.00 kiB </td>\n",
       "                        <td> 512 B </td>\n",
       "                    </tr>\n",
       "                    \n",
       "                    <tr>\n",
       "                        <th> Shape </th>\n",
       "                        <td> (16, 16) </td>\n",
       "                        <td> (8, 8) </td>\n",
       "                    </tr>\n",
       "                    <tr>\n",
       "                        <th> Dask graph </th>\n",
       "                        <td colspan=\"2\"> 4 chunks in 1 graph layer </td>\n",
       "                    </tr>\n",
       "                    <tr>\n",
       "                        <th> Data type </th>\n",
       "                        <td colspan=\"2\"> float64 numpy.ndarray </td>\n",
       "                    </tr>\n",
       "                </tbody>\n",
       "            </table>\n",
       "        </td>\n",
       "        <td>\n",
       "        <svg width=\"170\" height=\"170\" style=\"stroke:rgb(0,0,0);stroke-width:1\" >\n",
       "\n",
       "  <!-- Horizontal lines -->\n",
       "  <line x1=\"0\" y1=\"0\" x2=\"120\" y2=\"0\" style=\"stroke-width:2\" />\n",
       "  <line x1=\"0\" y1=\"60\" x2=\"120\" y2=\"60\" />\n",
       "  <line x1=\"0\" y1=\"120\" x2=\"120\" y2=\"120\" style=\"stroke-width:2\" />\n",
       "\n",
       "  <!-- Vertical lines -->\n",
       "  <line x1=\"0\" y1=\"0\" x2=\"0\" y2=\"120\" style=\"stroke-width:2\" />\n",
       "  <line x1=\"60\" y1=\"0\" x2=\"60\" y2=\"120\" />\n",
       "  <line x1=\"120\" y1=\"0\" x2=\"120\" y2=\"120\" style=\"stroke-width:2\" />\n",
       "\n",
       "  <!-- Colored Rectangle -->\n",
       "  <polygon points=\"0.0,0.0 120.0,0.0 120.0,120.0 0.0,120.0\" style=\"fill:#ECB172A0;stroke-width:0\"/>\n",
       "\n",
       "  <!-- Text -->\n",
       "  <text x=\"60.000000\" y=\"140.000000\" font-size=\"1.0rem\" font-weight=\"100\" text-anchor=\"middle\" >16</text>\n",
       "  <text x=\"140.000000\" y=\"60.000000\" font-size=\"1.0rem\" font-weight=\"100\" text-anchor=\"middle\" transform=\"rotate(0,140.000000,60.000000)\">16</text>\n",
       "</svg>\n",
       "        </td>\n",
       "    </tr>\n",
       "</table>"
      ],
      "text/plain": [
       "dask.array<random_sample, shape=(16, 16), dtype=float64, chunksize=(8, 8), chunktype=numpy.ndarray>"
      ]
     },
     "execution_count": 17,
     "metadata": {},
     "output_type": "execute_result"
    }
   ],
   "source": [
    "x"
   ]
  },
  {
   "cell_type": "code",
   "execution_count": 18,
   "metadata": {},
   "outputs": [],
   "source": [
    "y = mymatmul(x)"
   ]
  },
  {
   "cell_type": "code",
   "execution_count": 20,
   "metadata": {},
   "outputs": [
    {
     "data": {
      "text/plain": [
       "array([[3.45971351, 3.93183097, 2.44841311, 4.39783654, 3.74905762,\n",
       "        3.11367075, 2.84798073, 3.15039181, 3.1171389 , 4.93954122,\n",
       "        3.60262474, 3.56341458, 2.14011444, 3.74810855, 3.36252708,\n",
       "        4.49506714],\n",
       "       [3.14250508, 3.39345113, 2.57050982, 4.26655621, 4.09997134,\n",
       "        2.6342515 , 2.77440157, 2.7274344 , 3.37698007, 5.00995995,\n",
       "        3.43839319, 4.00521531, 1.93747367, 3.50665681, 3.27457406,\n",
       "        4.63534217],\n",
       "       [3.37605491, 3.47356991, 2.88158408, 4.62242446, 4.18020866,\n",
       "        2.65070218, 3.1511815 , 3.50596416, 3.08662932, 5.57213092,\n",
       "        4.2384829 , 4.19495988, 2.09884349, 3.57752573, 3.21388126,\n",
       "        4.52715291],\n",
       "       [3.78910085, 3.97090268, 3.03276707, 4.63099994, 4.44579019,\n",
       "        3.82650793, 3.4306939 , 3.06496823, 3.23206483, 5.28174107,\n",
       "        3.95143913, 4.23689313, 3.0322534 , 4.47778262, 3.18703199,\n",
       "        4.70253787],\n",
       "       [3.30694077, 3.31069922, 2.63005192, 4.33302996, 4.07412219,\n",
       "        3.37104488, 3.36029803, 3.48189054, 2.9370954 , 5.5377846 ,\n",
       "        4.06274059, 4.13183937, 2.66062732, 3.85960685, 3.39010989,\n",
       "        4.43966164],\n",
       "       [3.64185716, 3.69726781, 3.10180969, 4.63140714, 4.56965838,\n",
       "        3.8361619 , 3.48829273, 3.86215517, 2.93115765, 5.75748844,\n",
       "        4.02125236, 3.96679082, 2.85038579, 3.9769682 , 3.57944251,\n",
       "        5.23952992],\n",
       "       [4.02172391, 3.37924979, 3.0586869 , 5.04147134, 4.81320005,\n",
       "        3.66152264, 3.80849968, 4.06895419, 2.77880254, 5.74358129,\n",
       "        4.36618181, 4.54166201, 2.71023773, 3.73048978, 3.8026631 ,\n",
       "        4.87842199],\n",
       "       [3.56783448, 3.62149053, 2.91829834, 4.9587986 , 4.11569511,\n",
       "        3.26995429, 3.26338745, 3.3910676 , 3.1696055 , 5.65399554,\n",
       "        4.04201645, 4.73712526, 2.28965486, 4.23368778, 3.75963611,\n",
       "        5.03041624],\n",
       "       [3.42128125, 3.11063256, 2.99300796, 4.64223902, 4.28074683,\n",
       "        3.16193888, 3.15150333, 3.20886602, 3.45418894, 5.71772781,\n",
       "        4.05469486, 4.2857092 , 2.58498172, 3.89574909, 3.2385457 ,\n",
       "        4.56101693],\n",
       "       [3.51278346, 3.73198243, 3.11996773, 4.58237617, 4.66521248,\n",
       "        3.78204556, 3.73058445, 3.68149213, 2.9198802 , 5.55716207,\n",
       "        4.06896797, 3.95883826, 2.69336386, 4.21967574, 3.73428572,\n",
       "        5.30755238],\n",
       "       [3.15030063, 2.63662234, 2.11270818, 3.57873855, 2.80509969,\n",
       "        2.80014035, 2.34282484, 3.24784734, 1.59319631, 4.56709696,\n",
       "        2.80584683, 3.58939678, 2.30689706, 3.24857633, 2.68110981,\n",
       "        3.73227996],\n",
       "       [3.28434364, 2.8906616 , 2.47879963, 4.17805667, 3.89272181,\n",
       "        3.27811563, 3.0403605 , 3.69415536, 1.96535477, 4.89076383,\n",
       "        3.56194225, 4.00067044, 2.51263746, 3.73258326, 2.95118173,\n",
       "        4.24449951],\n",
       "       [3.48276708, 3.72389628, 2.91395429, 4.13903391, 3.88580852,\n",
       "        3.57802524, 3.16476448, 3.37288949, 2.85786205, 5.33948025,\n",
       "        3.96085203, 3.92205649, 3.33207542, 4.01088559, 3.0550628 ,\n",
       "        4.05655245],\n",
       "       [4.17164239, 4.34347244, 3.26567371, 5.51702643, 4.82182269,\n",
       "        3.85236573, 3.98907912, 4.19565874, 3.71375313, 6.68525655,\n",
       "        4.76093791, 5.15006344, 2.89590225, 5.11928573, 4.00141373,\n",
       "        5.57198958],\n",
       "       [3.55721939, 3.80550263, 2.92777666, 4.37309024, 4.20680577,\n",
       "        2.96421922, 3.03888484, 3.61368473, 3.36993584, 5.81217125,\n",
       "        4.18651302, 4.33582227, 2.58987113, 3.65768793, 3.59947463,\n",
       "        4.53600108],\n",
       "       [4.24171294, 3.76032532, 3.34521817, 4.51857904, 4.69793774,\n",
       "        3.46593234, 3.2643013 , 3.93201938, 3.99898749, 6.67436271,\n",
       "        4.45118254, 4.92864723, 3.11918178, 4.03769302, 4.01791643,\n",
       "        5.33376061]])"
      ]
     },
     "execution_count": 20,
     "metadata": {},
     "output_type": "execute_result"
    }
   ],
   "source": [
    "y"
   ]
  },
  {
   "cell_type": "code",
   "execution_count": 19,
   "metadata": {},
   "outputs": [
    {
     "ename": "AttributeError",
     "evalue": "'numpy.ndarray' object has no attribute 'visualize'",
     "output_type": "error",
     "traceback": [
      "\u001b[0;31m---------------------------------------------------------------------------\u001b[0m",
      "\u001b[0;31mAttributeError\u001b[0m                            Traceback (most recent call last)",
      "Cell \u001b[0;32mIn[19], line 1\u001b[0m\n\u001b[0;32m----> 1\u001b[0m \u001b[43my\u001b[49m\u001b[38;5;241;43m.\u001b[39;49m\u001b[43mvisualize\u001b[49m(rankdir\u001b[38;5;241m=\u001b[39m\u001b[38;5;124m'\u001b[39m\u001b[38;5;124mLR\u001b[39m\u001b[38;5;124m'\u001b[39m)\n",
      "\u001b[0;31mAttributeError\u001b[0m: 'numpy.ndarray' object has no attribute 'visualize'"
     ]
    }
   ],
   "source": [
    "y.visualize(rankdir='LR')"
   ]
  },
  {
   "cell_type": "code",
   "execution_count": null,
   "metadata": {},
   "outputs": [],
   "source": [
    "%%time\n",
    "y.compute().shape"
   ]
  }
 ],
 "metadata": {
  "kernelspec": {
   "display_name": "hpcpy2023",
   "language": "python",
   "name": "hpcpy2023"
  },
  "language_info": {
   "codemirror_mode": {
    "name": "ipython",
    "version": 3
   },
   "file_extension": ".py",
   "mimetype": "text/x-python",
   "name": "python",
   "nbconvert_exporter": "python",
   "pygments_lexer": "ipython3",
   "version": "3.9.4"
  },
  "widgets": {
   "application/vnd.jupyter.widget-state+json": {
    "state": {},
    "version_major": 2,
    "version_minor": 0
   }
  }
 },
 "nbformat": 4,
 "nbformat_minor": 4
}
